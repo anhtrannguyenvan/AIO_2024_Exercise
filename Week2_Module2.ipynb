{
  "nbformat": 4,
  "nbformat_minor": 0,
  "metadata": {
    "colab": {
      "provenance": [],
      "authorship_tag": "ABX9TyPD2HeWEpq5Jxs1pg966OC/",
      "include_colab_link": true
    },
    "kernelspec": {
      "name": "python3",
      "display_name": "Python 3"
    },
    "language_info": {
      "name": "python"
    }
  },
  "cells": [
    {
      "cell_type": "markdown",
      "metadata": {
        "id": "view-in-github",
        "colab_type": "text"
      },
      "source": [
        "<a href=\"https://colab.research.google.com/github/anhtrannguyenvan/AIO_2024_Exercise/blob/feature%2Fmodule2%2Fweek2/Week2_Module2.ipynb\" target=\"_parent\"><img src=\"https://colab.research.google.com/assets/colab-badge.svg\" alt=\"Open In Colab\"/></a>"
      ]
    },
    {
      "cell_type": "code",
      "execution_count": 1,
      "metadata": {
        "id": "BIUKEAzmL5An"
      },
      "outputs": [],
      "source": [
        "#import library\n",
        "import numpy as np\n",
        "def compute_vector_length(vector):\n",
        "    vector_length = np.sqrt(np.sum(vector**2))\n",
        "    return vector_length"
      ]
    },
    {
      "cell_type": "code",
      "source": [
        "def compute_dot_product(vector1, vector2):\n",
        "    dot_product = np.dot(vector1, vector2)\n",
        "    return dot_product"
      ],
      "metadata": {
        "id": "vVi1XyVVMX-B"
      },
      "execution_count": 2,
      "outputs": []
    },
    {
      "cell_type": "code",
      "source": [
        "def matrix_multi_vector(matrix, vector):\n",
        "    result = np.dot(matrix, vector)\n",
        "    return result"
      ],
      "metadata": {
        "id": "iUcab35HMdtA"
      },
      "execution_count": 3,
      "outputs": []
    },
    {
      "cell_type": "code",
      "source": [
        "import numpy as np\n",
        "def inverse_matrix(matrix):\n",
        "    inverse_matrix = np.linalg.inv(matrix)\n",
        "    return inverse_matrix"
      ],
      "metadata": {
        "id": "IhPGTDt8NhEK"
      },
      "execution_count": 4,
      "outputs": []
    },
    {
      "cell_type": "code",
      "source": [
        "#Example\n",
        "a = np.array([[0.9, 0.2],\n",
        "              [0.1, 0.8]])\n",
        "a_inv = inverse_matrix(a)\n",
        "print(a_inv)\n"
      ],
      "metadata": {
        "colab": {
          "base_uri": "https://localhost:8080/"
        },
        "id": "SiXOW_erN6Bt",
        "outputId": "b976da5e-1069-4f9f-8167-fca4cc9f120e"
      },
      "execution_count": 5,
      "outputs": [
        {
          "output_type": "stream",
          "name": "stdout",
          "text": [
            "[[ 1.14285714 -0.28571429]\n",
            " [-0.14285714  1.28571429]]\n"
          ]
        }
      ]
    },
    {
      "cell_type": "code",
      "source": [
        "def compute_eigenvalues_eigenvectors(matrix):\n",
        "    eigenvalues, eigenvectors = np.linalg.eig(matrix)\n",
        "    return eigenvalues, eigenvectors"
      ],
      "metadata": {
        "id": "BK_iQzghO-TU"
      },
      "execution_count": 6,
      "outputs": []
    },
    {
      "cell_type": "code",
      "source": [
        "a = np.array([[0.9, 0.2],\n",
        "              [0.1, 0.8]])\n",
        "a_eigenvalues, a_eigenvectors = compute_eigenvalues_eigenvectors(a)\n",
        "print(a_eigenvalues)\n",
        "print(a_eigenvectors)"
      ],
      "metadata": {
        "colab": {
          "base_uri": "https://localhost:8080/"
        },
        "id": "dCHm1hyzPhBz",
        "outputId": "d45aaaa3-6df7-4dab-bf3f-d9b627238bc4"
      },
      "execution_count": 7,
      "outputs": [
        {
          "output_type": "stream",
          "name": "stdout",
          "text": [
            "[1.  0.7]\n",
            "[[ 0.89442719 -0.70710678]\n",
            " [ 0.4472136   0.70710678]]\n"
          ]
        }
      ]
    },
    {
      "cell_type": "code",
      "source": [
        "def compute_cosine(x, y):\n",
        "    # Tính tích vô hướng của x và y\n",
        "    dot_product = np.dot(x, y)\n",
        "    # Tính chuẩn Euclidean của x và y\n",
        "    norm_x = np.linalg.norm(x)\n",
        "    norm_y = np.linalg.norm(y)\n",
        "    # Tính độ tương đồng cosine\n",
        "    cosine_similarity = dot_product / (norm_x * norm_y)\n",
        "    return cosine_similarity"
      ],
      "metadata": {
        "id": "CdVym4F_QRxu"
      },
      "execution_count": 46,
      "outputs": []
    },
    {
      "cell_type": "code",
      "source": [
        "#Background subtraction\n",
        "import numpy as np\n",
        "from google.colab.patches import cv2_imshow\n",
        "import cv2\n",
        "\n",
        "bg1_image = cv2.imread('/content/GreenBackground.png',1)\n",
        "bg1_image = cv2.resize(bg1_image, (678, 381))\n",
        "\n",
        "ob_image = cv2.imread('/content/Object.png',1)\n",
        "ob_image = cv2.resize(ob_image, (678, 381))\n",
        "\n",
        "\n",
        "bg2_image = cv2.imread('/content/NewBackground.jpg',1)\n",
        "bg2_image = cv2.resize(bg2_image, (678, 381))"
      ],
      "metadata": {
        "id": "acS-Hci9SAP8"
      },
      "execution_count": 11,
      "outputs": []
    },
    {
      "cell_type": "code",
      "source": [
        "#Build compute different\n",
        "def compute_difference(bg_img, input_img):\n",
        "  difference = cv2.absdiff(bg_img, input_img)\n",
        "  return difference\n"
      ],
      "metadata": {
        "id": "GuFmRb5tYjkc"
      },
      "execution_count": 12,
      "outputs": []
    },
    {
      "cell_type": "code",
      "source": [
        "#build ham compute_binary_mask()\n",
        "\n",
        "def compute_binary_mask(difference_single_channel):\n",
        "  threshold = 20\n",
        "  _, binary_mask = cv2.threshold(difference_single_channel, threshold, 255, cv2.THRESH_BINARY)\n",
        "  return binary_mask"
      ],
      "metadata": {
        "id": "XBg26hpUaYAn"
      },
      "execution_count": 14,
      "outputs": []
    },
    {
      "cell_type": "code",
      "source": [
        "binary_mask = compute_binary_mask(difference_single_channel)\n",
        "cv2_imshow(binary_mask)"
      ],
      "metadata": {
        "id": "FVx-J8HBGJT0"
      },
      "execution_count": null,
      "outputs": []
    },
    {
      "cell_type": "code",
      "source": [
        "#build def replace background\n",
        "def replace_background(bg1_image , bg2_image , ob_image):\n",
        "  difference_single_channel = compute_difference(bg1_image, ob_image)\n",
        "  binary_mask = compute_binary_mask(difference_single_channel)\n",
        "  output = np.where(binary_mask == 255, bg2_image, ob_image)\n",
        "  return output"
      ],
      "metadata": {
        "id": "uAgkbXhNbcX9"
      },
      "execution_count": 17,
      "outputs": []
    },
    {
      "cell_type": "markdown",
      "source": [
        "\n",
        "\n",
        "**MUTIPLE CHOICE**\n",
        "\n"
      ],
      "metadata": {
        "id": "AygQ7MkAcrbS"
      }
    },
    {
      "cell_type": "code",
      "source": [
        "#Cau1\n",
        "vector = np.array([-2,4,9,21])\n",
        "result = compute_vector_length(vector)\n",
        "print(round(result, 2))"
      ],
      "metadata": {
        "colab": {
          "base_uri": "https://localhost:8080/"
        },
        "id": "8J8zAGg5cp4E",
        "outputId": "b987485c-5350-40a8-e891-7eecfe64612b"
      },
      "execution_count": 18,
      "outputs": [
        {
          "output_type": "stream",
          "name": "stdout",
          "text": [
            "23.28\n"
          ]
        }
      ]
    },
    {
      "cell_type": "code",
      "source": [
        "v1 = np.array([0,1,-1,2])\n",
        "v2 = np.array([2,5,1,0])\n",
        "result = compute_dot_product(v1, v2)\n",
        "print(round(result, 2))"
      ],
      "metadata": {
        "colab": {
          "base_uri": "https://localhost:8080/"
        },
        "id": "CeiQdFmudihr",
        "outputId": "79f90f13-d7f2-4774-b9fa-563773814b6d"
      },
      "execution_count": 19,
      "outputs": [
        {
          "output_type": "stream",
          "name": "stdout",
          "text": [
            "4\n"
          ]
        }
      ]
    },
    {
      "cell_type": "code",
      "source": [
        "#Cau3:\n",
        "x = np.array([[1,2],\n",
        "             [3,4]])\n",
        "k = np.array([1,2])\n",
        "print(x.dot(k))"
      ],
      "metadata": {
        "colab": {
          "base_uri": "https://localhost:8080/"
        },
        "id": "dTnzz7hl4dWs",
        "outputId": "7d808a3e-7f89-4d4a-a57d-4004dc8d30dd"
      },
      "execution_count": 20,
      "outputs": [
        {
          "output_type": "stream",
          "name": "stdout",
          "text": [
            "[ 5 11]\n"
          ]
        }
      ]
    },
    {
      "cell_type": "code",
      "source": [
        "#Cau4\n",
        "x=np.array([[-1,2],\n",
        "            [3,-4]])\n",
        "k = np.array([1,2])\n",
        "print(x@k)"
      ],
      "metadata": {
        "colab": {
          "base_uri": "https://localhost:8080/"
        },
        "id": "N1Qt9Twm5Xbd",
        "outputId": "97b798c4-5614-46e5-a333-9d236c946827"
      },
      "execution_count": 21,
      "outputs": [
        {
          "output_type": "stream",
          "name": "stdout",
          "text": [
            "[ 3 -5]\n"
          ]
        }
      ]
    },
    {
      "cell_type": "code",
      "source": [
        "#Cau5\n",
        "m = np.array([[ -1 , 1 , 1] , [0 , -4 , 9]])\n",
        "v = np.array([0,2,1])\n",
        "result = matrix_multi_vector(m, v)\n",
        "print(result)"
      ],
      "metadata": {
        "colab": {
          "base_uri": "https://localhost:8080/"
        },
        "id": "GsVDQrHq5piR",
        "outputId": "92cb21dc-37c0-4642-a8b5-fc0aa58d5303"
      },
      "execution_count": 22,
      "outputs": [
        {
          "output_type": "stream",
          "name": "stdout",
          "text": [
            "[3 1]\n"
          ]
        }
      ]
    },
    {
      "cell_type": "code",
      "source": [
        "#Cau6\n",
        "m1 = np.array([[0,1,2], [2,-3,1]])\n",
        "m2 = np. array ([[1 , -3] ,[6 , 1] , [0 , -1]])\n",
        "result = matrix_multi_vector(m1, m2)\n",
        "print(result)"
      ],
      "metadata": {
        "colab": {
          "base_uri": "https://localhost:8080/"
        },
        "id": "o1D5EupO6bEr",
        "outputId": "739f3cf4-2ee6-49c4-c010-cad77d99426d"
      },
      "execution_count": 23,
      "outputs": [
        {
          "output_type": "stream",
          "name": "stdout",
          "text": [
            "[[  6  -1]\n",
            " [-16 -10]]\n"
          ]
        }
      ]
    },
    {
      "cell_type": "code",
      "source": [
        "#cau7\n",
        "m1 = np.eye(3)\n",
        "m2 = np.array([[1 , 1 , 1] ,[2 , 2 , 2] , [3 , 3 , 3]])\n",
        "result = m1@m2\n",
        "print(result)"
      ],
      "metadata": {
        "colab": {
          "base_uri": "https://localhost:8080/"
        },
        "id": "xQdPBEaPyAlf",
        "outputId": "3e348482-e21b-4a94-8551-9a6e2615097b"
      },
      "execution_count": 25,
      "outputs": [
        {
          "output_type": "stream",
          "name": "stdout",
          "text": [
            "[[1. 1. 1.]\n",
            " [2. 2. 2.]\n",
            " [3. 3. 3.]]\n"
          ]
        }
      ]
    },
    {
      "cell_type": "code",
      "source": [
        "#Cau8\n",
        "m1 = np.eye(2)\n",
        "m1 = np.reshape(m1,(-1 ,4))[0]\n",
        "m2 = np.array ([[1 , 1 , 1 , 1] ,[2 , 2 , 2 , 2] , [3 , 3 , 3 , 3] , [4 , 4 , 4 , 4]])\n",
        "result = m1@m2\n",
        "print(result)"
      ],
      "metadata": {
        "colab": {
          "base_uri": "https://localhost:8080/"
        },
        "id": "QvCt8F11zioW",
        "outputId": "c6c44b6b-4228-438b-cb4a-d47a43a9966c"
      },
      "execution_count": 27,
      "outputs": [
        {
          "output_type": "stream",
          "name": "stdout",
          "text": [
            "[5. 5. 5. 5.]\n"
          ]
        }
      ]
    },
    {
      "cell_type": "code",
      "source": [
        "#Cau9\n",
        "m1 = np.array([[1 , 2] , [3 , 4]])\n",
        "m1 = np.reshape(m1,(-1 ,4),\"F\")[0]\n",
        "m2 = np.array ([[1 , 1 , 1 , 1] ,[2 , 2 , 2 , 2] , [3 , 3 , 3 , 3] , [4 , 4 , 4 , 4]])\n",
        "result = m1@m2\n",
        "print(result)"
      ],
      "metadata": {
        "colab": {
          "base_uri": "https://localhost:8080/"
        },
        "id": "x5XcMc891XRt",
        "outputId": "f535e50c-64df-42d7-f903-99feb81ed4c2"
      },
      "execution_count": 31,
      "outputs": [
        {
          "output_type": "stream",
          "name": "stdout",
          "text": [
            "[29 29 29 29]\n"
          ]
        }
      ]
    },
    {
      "cell_type": "code",
      "source": [
        "#Cau10\n",
        "m1 = np.array([[-2,6],[8,-4]])\n",
        "result = inverse_matrix(m1)\n",
        "print(result)"
      ],
      "metadata": {
        "colab": {
          "base_uri": "https://localhost:8080/"
        },
        "id": "edSUvk9i2uUl",
        "outputId": "aded8fc1-cf46-4e29-8578-fb6fc4105ec6"
      },
      "execution_count": 33,
      "outputs": [
        {
          "output_type": "stream",
          "name": "stdout",
          "text": [
            "[[0.1  0.15]\n",
            " [0.2  0.05]]\n"
          ]
        }
      ]
    },
    {
      "cell_type": "code",
      "source": [
        "#Cau11\n",
        "matrix = np.array([[0.9,0.2],[0.1,0.8]])\n",
        "eigenvalues, eigenvectors = compute_eigenvalues_eigenvectors(matrix)\n",
        "print(eigenvectors)"
      ],
      "metadata": {
        "colab": {
          "base_uri": "https://localhost:8080/"
        },
        "id": "yk1DKM8W3tsl",
        "outputId": "88d077aa-f460-4f70-b8ef-590e08d81a8f"
      },
      "execution_count": 34,
      "outputs": [
        {
          "output_type": "stream",
          "name": "stdout",
          "text": [
            "[[ 0.89442719 -0.70710678]\n",
            " [ 0.4472136   0.70710678]]\n"
          ]
        }
      ]
    },
    {
      "cell_type": "code",
      "source": [
        "#Cau12\n",
        "x = np.array([1,2,3,4])\n",
        "y = np.array([1,0,3,0])\n",
        "result = compute_cosine(x, y)\n",
        "print(round(result,3))"
      ],
      "metadata": {
        "colab": {
          "base_uri": "https://localhost:8080/"
        },
        "id": "YRcH7e9-3-sz",
        "outputId": "4e794d54-fae4-4367-876d-4e9455401549"
      },
      "execution_count": 47,
      "outputs": [
        {
          "output_type": "stream",
          "name": "stdout",
          "text": [
            "0.577\n"
          ]
        }
      ]
    }
  ]
}