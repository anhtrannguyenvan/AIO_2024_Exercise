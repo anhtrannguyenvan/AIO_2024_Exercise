{
  "nbformat": 4,
  "nbformat_minor": 0,
  "metadata": {
    "colab": {
      "provenance": [],
      "authorship_tag": "ABX9TyMDcpPB/TMobDss/bDucJcV",
      "include_colab_link": true
    },
    "kernelspec": {
      "name": "python3",
      "display_name": "Python 3"
    },
    "language_info": {
      "name": "python"
    }
  },
  "cells": [
    {
      "cell_type": "markdown",
      "metadata": {
        "id": "view-in-github",
        "colab_type": "text"
      },
      "source": [
        "<a href=\"https://colab.research.google.com/github/anhtrannguyenvan/AIO_2024_Exercise/blob/feature%2Fmodule2%2Fweek1/Week1_Module2.ipynb\" target=\"_parent\"><img src=\"https://colab.research.google.com/assets/colab-badge.svg\" alt=\"Open In Colab\"/></a>"
      ]
    },
    {
      "cell_type": "code",
      "execution_count": 2,
      "metadata": {
        "colab": {
          "base_uri": "https://localhost:8080/"
        },
        "id": "80Kf1U2_ebtY",
        "outputId": "5576aa43-2e47-4189-83bf-85ffccd10fbc"
      },
      "outputs": [
        {
          "output_type": "stream",
          "name": "stdout",
          "text": [
            "[0 1 2 3 4 5 6 7 8 9]\n"
          ]
        }
      ],
      "source": [
        "import numpy as np\n",
        "arr = np.arange(0,10,1)\n",
        "print(arr)"
      ]
    },
    {
      "cell_type": "code",
      "source": [
        "arr = np.ones((3,3))>0\n",
        "print(arr)"
      ],
      "metadata": {
        "colab": {
          "base_uri": "https://localhost:8080/"
        },
        "id": "sUDxXcJ3mnI5",
        "outputId": "4e1b98d2-3646-4a4c-e1ee-23bc98ecdf9d"
      },
      "execution_count": 3,
      "outputs": [
        {
          "output_type": "stream",
          "name": "stdout",
          "text": [
            "[[ True  True  True]\n",
            " [ True  True  True]\n",
            " [ True  True  True]]\n"
          ]
        }
      ]
    },
    {
      "cell_type": "code",
      "source": [
        "arr = np.ones((3,3),dtype=bool)\n",
        "print(arr)"
      ],
      "metadata": {
        "colab": {
          "base_uri": "https://localhost:8080/"
        },
        "id": "k5V1ZqphnA4R",
        "outputId": "4bd44d2d-303f-4d1c-a60a-c7d6e91da5ff"
      },
      "execution_count": 4,
      "outputs": [
        {
          "output_type": "stream",
          "name": "stdout",
          "text": [
            "[[ True  True  True]\n",
            " [ True  True  True]\n",
            " [ True  True  True]]\n"
          ]
        }
      ]
    },
    {
      "cell_type": "code",
      "source": [
        "arr = np.full((3,3), fill_value=True, dtype=bool)\n",
        "print(arr)"
      ],
      "metadata": {
        "colab": {
          "base_uri": "https://localhost:8080/"
        },
        "id": "SHL69tJznN49",
        "outputId": "44add290-4383-45bc-d778-8eb80ed8e1e6"
      },
      "execution_count": 5,
      "outputs": [
        {
          "output_type": "stream",
          "name": "stdout",
          "text": [
            "[[ True  True  True]\n",
            " [ True  True  True]\n",
            " [ True  True  True]]\n"
          ]
        }
      ]
    },
    {
      "cell_type": "code",
      "source": [
        "arr = np.arange(0,10)\n",
        "print(arr[arr%2==1])"
      ],
      "metadata": {
        "colab": {
          "base_uri": "https://localhost:8080/"
        },
        "id": "A5uWOiT3oPzB",
        "outputId": "a476975f-f516-4bda-9ee7-9fbdbf6ddc24"
      },
      "execution_count": 7,
      "outputs": [
        {
          "output_type": "stream",
          "name": "stdout",
          "text": [
            "[1 3 5 7 9]\n"
          ]
        }
      ]
    },
    {
      "cell_type": "code",
      "source": [
        "arr = np.arange(0,10)\n",
        "arr[arr%2==1]=-1\n",
        "print(arr)\n"
      ],
      "metadata": {
        "colab": {
          "base_uri": "https://localhost:8080/"
        },
        "id": "ZvHDEvh5oiqA",
        "outputId": "cdd96516-fe20-48f1-e3e5-f17ea7df9cf1"
      },
      "execution_count": 9,
      "outputs": [
        {
          "output_type": "stream",
          "name": "stdout",
          "text": [
            "[ 0 -1  2 -1  4 -1  6 -1  8 -1]\n"
          ]
        }
      ]
    },
    {
      "cell_type": "code",
      "source": [
        "#Cau5\n",
        "arr = np.arange(0,10)\n",
        "arr_2d = arr.reshape (2,-1)\n",
        "print(arr_2d)\n"
      ],
      "metadata": {
        "colab": {
          "base_uri": "https://localhost:8080/"
        },
        "id": "FJ3O9UydpUHZ",
        "outputId": "dcfc6de5-3f82-4113-de93-9e34c89feaf5"
      },
      "execution_count": 10,
      "outputs": [
        {
          "output_type": "stream",
          "name": "stdout",
          "text": [
            "[[0 1 2 3 4]\n",
            " [5 6 7 8 9]]\n"
          ]
        }
      ]
    },
    {
      "cell_type": "code",
      "source": [
        "#Cau6\n",
        "arr1 = np.arange(10).reshape(2,-1)\n",
        "arr2 = np.repeat(1,10).reshape(2,-1)\n",
        "c = np.concatenate((arr1,arr2),axis=0)\n",
        "print(c)"
      ],
      "metadata": {
        "colab": {
          "base_uri": "https://localhost:8080/"
        },
        "id": "Q3z9Pzkipfx2",
        "outputId": "c0ffda56-9994-46ea-fecc-a1c63c7908df"
      },
      "execution_count": 12,
      "outputs": [
        {
          "output_type": "stream",
          "name": "stdout",
          "text": [
            "[[0 1 2 3 4]\n",
            " [5 6 7 8 9]\n",
            " [1 1 1 1 1]\n",
            " [1 1 1 1 1]]\n"
          ]
        }
      ]
    },
    {
      "cell_type": "code",
      "source": [
        "#Cau7:\n",
        "arr1 = np.arange(10).reshape(2,-1)\n",
        "arr2 = np.repeat(1,10).reshape(2,-1)\n",
        "c = np.concatenate((arr1,arr2),axis=1)\n",
        "print(c)"
      ],
      "metadata": {
        "colab": {
          "base_uri": "https://localhost:8080/"
        },
        "id": "RJ9Dtob0qCao",
        "outputId": "e9ed346f-b858-4601-9870-d56acb96794b"
      },
      "execution_count": 13,
      "outputs": [
        {
          "output_type": "stream",
          "name": "stdout",
          "text": [
            "[[0 1 2 3 4 1 1 1 1 1]\n",
            " [5 6 7 8 9 1 1 1 1 1]]\n"
          ]
        }
      ]
    },
    {
      "cell_type": "code",
      "source": [
        "#CAU8:\n",
        "arr = np.array([1,2,3])\n",
        "print(np.repeat(arr,3))\n",
        "print(np.tile(arr,3))"
      ],
      "metadata": {
        "colab": {
          "base_uri": "https://localhost:8080/"
        },
        "id": "I6pvIhaMqQ7y",
        "outputId": "be0af91e-abd1-4c6e-d8ee-27fc643ed283"
      },
      "execution_count": 14,
      "outputs": [
        {
          "output_type": "stream",
          "name": "stdout",
          "text": [
            "[1 1 1 2 2 2 3 3 3]\n",
            "[1 2 3 1 2 3 1 2 3]\n"
          ]
        }
      ]
    },
    {
      "cell_type": "code",
      "source": [
        "#Cau9\n",
        "a = np.array([2,6,1,9,10,3,27])\n",
        "index = np.where((a>=5)&(a<=10))\n",
        "print(a[index])"
      ],
      "metadata": {
        "colab": {
          "base_uri": "https://localhost:8080/"
        },
        "id": "5ZPRF0S1qjZx",
        "outputId": "1f7888b6-2e24-4674-c1fc-6e7717f890ca"
      },
      "execution_count": 46,
      "outputs": [
        {
          "output_type": "stream",
          "name": "stdout",
          "text": [
            "[ 6  9 10]\n"
          ]
        }
      ]
    },
    {
      "cell_type": "code",
      "source": [
        "#Cau10\n",
        "def maxx(x,y):\n",
        "  if x>=y:\n",
        "    return x\n",
        "  else:\n",
        "    return y\n",
        "\n",
        "a = np.array([5, 7, 9, 8, 6, 4, 5])\n",
        "b = np.array([6, 3, 4, 8, 9, 7, 1])\n",
        "\n",
        "pair_max = np.vectorize(maxx,otypes=[float])\n",
        "print(pair_max(a,b))"
      ],
      "metadata": {
        "colab": {
          "base_uri": "https://localhost:8080/"
        },
        "id": "3doB4mUhrJiB",
        "outputId": "7685a8e0-189a-4e32-e0e9-192e0a500789"
      },
      "execution_count": 16,
      "outputs": [
        {
          "output_type": "stream",
          "name": "stdout",
          "text": [
            "[6. 7. 9. 8. 9. 7. 5.]\n"
          ]
        }
      ]
    },
    {
      "cell_type": "code",
      "source": [
        "a = np.array([5 ,7 ,9 ,8 ,6 ,4 ,5])\n",
        "b = np.array([6 ,3 ,4 ,8 ,9 ,7 ,1])\n",
        "print(np.where(a<b,b,a))"
      ],
      "metadata": {
        "colab": {
          "base_uri": "https://localhost:8080/"
        },
        "id": "9kyQnhOyrVwm",
        "outputId": "71395ce6-eff7-4aa7-a010-f3efe663446e"
      },
      "execution_count": 17,
      "outputs": [
        {
          "output_type": "stream",
          "name": "stdout",
          "text": [
            "[6 7 9 8 9 7 5]\n"
          ]
        }
      ]
    },
    {
      "cell_type": "code",
      "source": [
        "#Download image\n",
        "!gdown 1i9dqan21DjQoG5Q_VEvm0LrVwAlXD0vB"
      ],
      "metadata": {
        "colab": {
          "base_uri": "https://localhost:8080/"
        },
        "id": "hyqu5zkkroKM",
        "outputId": "7b636fdd-bcd9-4dfd-bc9c-64380ab43e94"
      },
      "execution_count": 18,
      "outputs": [
        {
          "output_type": "stream",
          "name": "stdout",
          "text": [
            "Downloading...\n",
            "From: https://drive.google.com/uc?id=1i9dqan21DjQoG5Q_VEvm0LrVwAlXD0vB\n",
            "To: /content/dog.jpeg\n",
            "\r  0% 0.00/33.7k [00:00<?, ?B/s]\r100% 33.7k/33.7k [00:00<00:00, 56.3MB/s]\n"
          ]
        }
      ]
    },
    {
      "cell_type": "code",
      "source": [
        "#Cau12\n",
        "import matplotlib.image as mpimg\n",
        "from skimage.color import rgb2gray\n",
        "img = mpimg.imread('/content/dog.jpeg')\n",
        "gray_img_01 = 0.5 * (np.max(img, axis=2) + np.min(img, axis=2))\n",
        "gray_img_01 [0 , 0]\n"
      ],
      "metadata": {
        "colab": {
          "base_uri": "https://localhost:8080/"
        },
        "id": "zen1wUbKsASd",
        "outputId": "72780554-bfdb-48de-f466-0ea04c5f07c8"
      },
      "execution_count": 23,
      "outputs": [
        {
          "output_type": "execute_result",
          "data": {
            "text/plain": [
              "102.5"
            ]
          },
          "metadata": {},
          "execution_count": 23
        }
      ]
    },
    {
      "cell_type": "code",
      "source": [
        "#Cau13\n",
        "gray_img_02 = np.mean(img, axis=2)\n",
        "gray_img_02 [0 , 0]"
      ],
      "metadata": {
        "colab": {
          "base_uri": "https://localhost:8080/"
        },
        "id": "vtmoT-FPs_4H",
        "outputId": "e463c73e-5a36-48ed-e2d7-7029d0029006"
      },
      "execution_count": 24,
      "outputs": [
        {
          "output_type": "execute_result",
          "data": {
            "text/plain": [
              "107.66666666666667"
            ]
          },
          "metadata": {},
          "execution_count": 24
        }
      ]
    },
    {
      "cell_type": "code",
      "source": [
        "#Cau14\n",
        "gray_img_03 = 0.299 * img[:, :, 0] + 0.587 * img[:, :, 1] + 0.114 * img[:, :, 2]\n",
        "gray_img_03 [0 , 0]"
      ],
      "metadata": {
        "colab": {
          "base_uri": "https://localhost:8080/"
        },
        "id": "nSQXGNzctV72",
        "outputId": "d8812d24-70f4-476c-b415-f29adc0ae1eb"
      },
      "execution_count": 26,
      "outputs": [
        {
          "output_type": "execute_result",
          "data": {
            "text/plain": [
              "122.03399999999999"
            ]
          },
          "metadata": {},
          "execution_count": 26
        }
      ]
    },
    {
      "cell_type": "code",
      "source": [
        "# Download data\n",
        "!gdown 1iA0WmVfW88HyJvTBSQDI5vesf-pgKabq"
      ],
      "metadata": {
        "colab": {
          "base_uri": "https://localhost:8080/"
        },
        "id": "ETC3SIVot4WG",
        "outputId": "db0c834a-2016-428a-d5a0-565aec534f8c"
      },
      "execution_count": 28,
      "outputs": [
        {
          "output_type": "stream",
          "name": "stdout",
          "text": [
            "Downloading...\n",
            "From: https://drive.google.com/uc?id=1iA0WmVfW88HyJvTBSQDI5vesf-pgKabq\n",
            "To: /content/advertising.csv\n",
            "\r  0% 0.00/4.06k [00:00<?, ?B/s]\r100% 4.06k/4.06k [00:00<00:00, 15.7MB/s]\n"
          ]
        }
      ]
    },
    {
      "cell_type": "code",
      "source": [
        "import pandas as pd\n",
        "\n",
        "df = pd.read_csv('/content/advertising.csv')\n",
        "data = df.to_numpy()"
      ],
      "metadata": {
        "id": "Lly-W5oyt94i"
      },
      "execution_count": 30,
      "outputs": []
    },
    {
      "cell_type": "code",
      "source": [
        "#Cau15\n",
        "max_value = df['Sales'].max()\n",
        "max_index = df['Sales'].idxmax()\n",
        "print(max_value)\n",
        "print(max_index)"
      ],
      "metadata": {
        "colab": {
          "base_uri": "https://localhost:8080/"
        },
        "id": "FHMAaLs4uVMD",
        "outputId": "b80007eb-e805-4097-c51c-7695fac6d21b"
      },
      "execution_count": 32,
      "outputs": [
        {
          "output_type": "stream",
          "name": "stdout",
          "text": [
            "27.0\n",
            "175\n"
          ]
        }
      ]
    },
    {
      "cell_type": "code",
      "source": [
        "#Cau16\n",
        "avg_tv = df['TV'].mean()\n",
        "print(avg_tv)"
      ],
      "metadata": {
        "colab": {
          "base_uri": "https://localhost:8080/"
        },
        "id": "aQtf_M3qugEJ",
        "outputId": "8b653f49-00e4-43be-8b70-8b4cb95782c6"
      },
      "execution_count": 33,
      "outputs": [
        {
          "output_type": "stream",
          "name": "stdout",
          "text": [
            "147.0425\n"
          ]
        }
      ]
    },
    {
      "cell_type": "code",
      "source": [
        "#Cau17\n",
        "count_sales_20_or_more = (df['Sales']>=20).sum()\n",
        "print(count_sales_20_or_more)"
      ],
      "metadata": {
        "colab": {
          "base_uri": "https://localhost:8080/"
        },
        "id": "vPrtM845ul6E",
        "outputId": "2bbc420a-5e4d-4a52-8d5b-53f67272bd2d"
      },
      "execution_count": 34,
      "outputs": [
        {
          "output_type": "stream",
          "name": "stdout",
          "text": [
            "40\n"
          ]
        }
      ]
    },
    {
      "cell_type": "code",
      "source": [
        "#Cau18\n",
        "avg_radio = df[df['Sales']>=15]['Radio'].mean()\n",
        "print(avg_radio)"
      ],
      "metadata": {
        "colab": {
          "base_uri": "https://localhost:8080/"
        },
        "id": "WKPwWB64u0dR",
        "outputId": "20aa863c-4c9d-4bb8-9317-ac2d3f468d3a"
      },
      "execution_count": 35,
      "outputs": [
        {
          "output_type": "stream",
          "name": "stdout",
          "text": [
            "26.22293577981651\n"
          ]
        }
      ]
    },
    {
      "cell_type": "code",
      "source": [
        "#Cau19\n",
        "newspaper_data = data[:,2]\n",
        "newspaper_mean = newspaper_data.mean()\n",
        "newspaper_cond = (newspaper_data>newspaper_mean)\n",
        "\n",
        "sales_data = data[:,3]\n",
        "sales_cond = sales_data*newspaper_cond\n",
        "sales_sum = np.sum(sales_cond)\n",
        "print(sales_sum)\n"
      ],
      "metadata": {
        "colab": {
          "base_uri": "https://localhost:8080/"
        },
        "id": "8sJSnB62vXSp",
        "outputId": "ba7dcc02-1624-4930-f5c4-6aa4948d2f28"
      },
      "execution_count": 36,
      "outputs": [
        {
          "output_type": "stream",
          "name": "stdout",
          "text": [
            "1405.1\n"
          ]
        }
      ]
    },
    {
      "cell_type": "code",
      "source": [
        "#Cau20\n",
        "sales_data = data[:,3]\n",
        "sales_mean = np.mean(sales_data)\n",
        "score_sales = np.where(\n",
        "    sales_data<sales_mean,\"Bad\",np.where(sales_data>sales_mean,\"Good\",\"Average\"))\n",
        "score_sales[7:10]\n",
        "\n"
      ],
      "metadata": {
        "colab": {
          "base_uri": "https://localhost:8080/"
        },
        "id": "Z5nq6-N8v8Xs",
        "outputId": "eee98868-412a-453f-f028-76d735d71455"
      },
      "execution_count": 40,
      "outputs": [
        {
          "output_type": "execute_result",
          "data": {
            "text/plain": [
              "array(['Bad', 'Bad', 'Good'], dtype='<U7')"
            ]
          },
          "metadata": {},
          "execution_count": 40
        }
      ]
    },
    {
      "cell_type": "code",
      "source": [
        "#Cau21\n",
        "sales_data = data[:,3]\n",
        "sales_mean = np.mean(sales_data)\n",
        "average_index = np.argmin(abs(sales_data-sales_mean))\n",
        "sales_closet = sales_data[average_index]\n",
        "sales_closet"
      ],
      "metadata": {
        "colab": {
          "base_uri": "https://localhost:8080/"
        },
        "id": "1iWHvaXNxV9s",
        "outputId": "45a00b5d-d4f8-46e0-9d9d-df0b4740d19d"
      },
      "execution_count": 44,
      "outputs": [
        {
          "output_type": "execute_result",
          "data": {
            "text/plain": [
              "15.2"
            ]
          },
          "metadata": {},
          "execution_count": 44
        }
      ]
    },
    {
      "cell_type": "code",
      "source": [
        "sales_closet = np.where(\n",
        "    sales_data<sales_mean,\"Bad\",np.where(sales_data>sales_mean,\"Good\",\"Average\"))\n",
        "sales_closet[7:10]"
      ],
      "metadata": {
        "colab": {
          "base_uri": "https://localhost:8080/"
        },
        "id": "bd_s3KNXyIEM",
        "outputId": "743f298e-d7b4-4c15-c06a-4d07be50e818"
      },
      "execution_count": 45,
      "outputs": [
        {
          "output_type": "execute_result",
          "data": {
            "text/plain": [
              "array(['Bad', 'Bad', 'Good'], dtype='<U7')"
            ]
          },
          "metadata": {},
          "execution_count": 45
        }
      ]
    }
  ]
}