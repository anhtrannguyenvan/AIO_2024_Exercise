{
  "nbformat": 4,
  "nbformat_minor": 0,
  "metadata": {
    "colab": {
      "provenance": [],
      "authorship_tag": "ABX9TyNeH0riaZmVAiY6h/yfFd2p",
      "include_colab_link": true
    },
    "kernelspec": {
      "name": "python3",
      "display_name": "Python 3"
    },
    "language_info": {
      "name": "python"
    }
  },
  "cells": [
    {
      "cell_type": "markdown",
      "metadata": {
        "id": "view-in-github",
        "colab_type": "text"
      },
      "source": [
        "<a href=\"https://colab.research.google.com/github/anhtrannguyenvan/AIO_2024_Exercise/blob/feature%2Fmodule4/M40W1.ipynb\" target=\"_parent\"><img src=\"https://colab.research.google.com/assets/colab-badge.svg\" alt=\"Open In Colab\"/></a>"
      ]
    },
    {
      "cell_type": "code",
      "execution_count": 1,
      "metadata": {
        "id": "jzj7KOHJgvgp"
      },
      "outputs": [],
      "source": [
        "import pandas as pd\n",
        "import numpy as np\n",
        "import matplotlib.pyplot as plt\n",
        "\n",
        "def get_column(data,index):\n",
        "  result = [row[index] for row in data]\n",
        "  return result\n",
        "\n",
        "def prepare_data(file_name_dataset):\n",
        "  data = np.genfromtxt(file_name_dataset, delimiter=',', skip_header=1).tolist()\n",
        "  N = len(data)\n",
        "  #get tv (index=0)\n",
        "  tv_data = get_column(data,0)\n",
        "  #get radio (index=1)\n",
        "  radio_data = get_column(data,1)\n",
        "  #get newspaper (index=2)\n",
        "  newspaper_data = get_column(data,2)\n",
        "  #get sales (index=3)\n",
        "  sales_data = get_column(data,3)\n",
        "\n",
        "  #building X input and y output for training\n",
        "  X = [tv_data,radio_data,newspaper_data]\n",
        "\n",
        "  y = sales_data\n",
        "  return X,y"
      ]
    },
    {
      "cell_type": "code",
      "source": [
        "#Question 1:\n",
        "X, y = prepare_data('/content/advertising.csv')\n",
        "list = [sum(X[0][:5]), sum(X[1][:5]), sum(X[2][:5]), sum(y[:5])]\n",
        "print(list)"
      ],
      "metadata": {
        "colab": {
          "base_uri": "https://localhost:8080/"
        },
        "id": "xgz-G-RQikoo",
        "outputId": "23ebaff3-312f-4315-f7e0-a05eba4828a8"
      },
      "execution_count": 5,
      "outputs": [
        {
          "output_type": "stream",
          "name": "stdout",
          "text": [
            "[624.1, 175.10000000000002, 300.5, 78.9]\n"
          ]
        }
      ]
    },
    {
      "cell_type": "code",
      "source": [
        "def implement_linear_regression(X_data, y_data, epoch_max = 50, lr = 1e-5):\n",
        "  losses = []\n",
        "  w1, w2, w3, b = initialize_params()\n",
        "\n",
        "  N = len(y_data)\n",
        "  for epoch in range(epoch_max):\n",
        "    for i in range(N):\n",
        "      #get a sample\n",
        "      x1 = X_data[0][i]\n",
        "      x2 = X_data[1][i]\n",
        "      x3 = X_data[2][i]\n",
        "      y = y_data[i]\n",
        "\n",
        "      #compute output\n",
        "      y_hat = predict(x1, x2, x3, w1, w2, w3, b)\n",
        "\n",
        "      #compute loss\n",
        "      loss = compute_loss_mse(y, y_hat)\n",
        "\n",
        "      #compute gardient w1, w2, w3, b\n",
        "      d1_dw1 = compute_gardient_wi(x1, y, y_hat)\n",
        "      d2_dw2 = compute_gardient_wi(x2, y, y_hat)\n",
        "      d3_dw3 = compute_gardient_wi(x3, y, y_hat)\n",
        "      d1_db = compute_gardient_b(y, y_hat)\n",
        "      #update parameters\n",
        "      w1 = update_weight_wi(w1 ,dl_dw1, lr)\n",
        "      w2 = update_weight_wi(w2 ,dl_dw2, lr)\n",
        "      w3 = update_weight_wi(w3 ,dl_dw3, lr)\n",
        "      b = update_weight_b(b ,dl_db, lr)\n",
        "      #logging\n",
        "      losses.append(loss)\n",
        "  return w1, w2, w3, b, losses"
      ],
      "metadata": {
        "id": "36tOYIhOjFCg"
      },
      "execution_count": 7,
      "outputs": []
    },
    {
      "cell_type": "code",
      "source": [
        "import random # Importing the random module\n",
        "def initialize_params():\n",
        "  w1 = random.gauss(mu=0.0, sigma=0.01)\n",
        "  w2 = random.gauss(mu=0.0, sigma=0.01)\n",
        "  w3 = random.gauss(mu=0.0, sigma=0.01)\n",
        "  b = 0\n",
        "  return w1, w2, w3, b"
      ],
      "metadata": {
        "id": "yZ5XDieSmn_I"
      },
      "execution_count": 26,
      "outputs": []
    },
    {
      "cell_type": "code",
      "source": [
        "def predict(x1, x2, x3, w1, w2, w3, b):\n",
        "  result = w1 * x1 + w2 * x2 + w3 * x3 + b\n",
        "  return result"
      ],
      "metadata": {
        "id": "UHaj1y1ynIjK"
      },
      "execution_count": 10,
      "outputs": []
    },
    {
      "cell_type": "code",
      "source": [
        "y = predict(x1=1, x2=1, x3=1, w1=0, w2=0.5, w3=0, b=0.5)\n",
        "print(y)"
      ],
      "metadata": {
        "colab": {
          "base_uri": "https://localhost:8080/"
        },
        "id": "gqdpLKUunMb0",
        "outputId": "323ba504-510a-4ec4-a6ce-41c9d22f4226"
      },
      "execution_count": 12,
      "outputs": [
        {
          "output_type": "stream",
          "name": "stdout",
          "text": [
            "1.0\n"
          ]
        }
      ]
    },
    {
      "cell_type": "code",
      "source": [
        "def compute_loss(y_hat, y):\n",
        "  loss = (y_hat - y) ** 2\n",
        "  return loss"
      ],
      "metadata": {
        "id": "IYMfkmi3n7ls"
      },
      "execution_count": 14,
      "outputs": []
    },
    {
      "cell_type": "code",
      "source": [
        "l = compute_loss(y_hat=1, y=0.5)\n",
        "print(l)"
      ],
      "metadata": {
        "colab": {
          "base_uri": "https://localhost:8080/"
        },
        "id": "GlP5QDmSotBR",
        "outputId": "21ffc1b0-a21f-4388-ffd8-def596ce02fd"
      },
      "execution_count": 15,
      "outputs": [
        {
          "output_type": "stream",
          "name": "stdout",
          "text": [
            "0.25\n"
          ]
        }
      ]
    },
    {
      "cell_type": "code",
      "source": [
        "def compute_gardient_wi(x1, y, y_hat):\n",
        "  dl_wi = 2 * (y_hat - y) * x1\n",
        "  return dl_wi\n",
        "def compute_gardient_b(y, y_hat):\n",
        "  dl_b = 2 * (y_hat - y)\n",
        "  return dl_b"
      ],
      "metadata": {
        "id": "C_pilcGapEFp"
      },
      "execution_count": 17,
      "outputs": []
    },
    {
      "cell_type": "code",
      "source": [
        "#Question 4\n",
        "#MSE LOSS\n",
        "g_wi = compute_gardient_wi(x1=1, y=1, y_hat=0.5)\n",
        "print(g_wi)"
      ],
      "metadata": {
        "colab": {
          "base_uri": "https://localhost:8080/"
        },
        "id": "uNv8XyilpQYr",
        "outputId": "6ed9039a-e758-4284-b6e8-cbab2f4805cd"
      },
      "execution_count": 19,
      "outputs": [
        {
          "output_type": "stream",
          "name": "stdout",
          "text": [
            "-1.0\n"
          ]
        }
      ]
    },
    {
      "cell_type": "code",
      "source": [
        "g_b = compute_gardient_b(y=2, y_hat=0.5)\n",
        "print(g_b)"
      ],
      "metadata": {
        "colab": {
          "base_uri": "https://localhost:8080/"
        },
        "id": "_ou3nwXjpmfy",
        "outputId": "02797b1d-f8b9-406e-b450-4367f11e44c6"
      },
      "execution_count": 20,
      "outputs": [
        {
          "output_type": "stream",
          "name": "stdout",
          "text": [
            "-3.0\n"
          ]
        }
      ]
    },
    {
      "cell_type": "code",
      "source": [
        "#update weights\n",
        "def update_weight_wi(w1, dl_dw1, lr):\n",
        "  w1 = w1 - lr * dl_dw1\n",
        "  return w1\n",
        "def update_weight_b(b, dl_db, lr):\n",
        "  b = b - lr * dl_db\n",
        "  return b"
      ],
      "metadata": {
        "id": "VvpSdWTGpsRx"
      },
      "execution_count": 21,
      "outputs": []
    },
    {
      "cell_type": "code",
      "source": [
        "after_wi = update_weight_wi(w1=1, dl_dw1=-0.5, lr=1e-5)\n",
        "print(after_wi)\n"
      ],
      "metadata": {
        "colab": {
          "base_uri": "https://localhost:8080/"
        },
        "id": "_ccimwbKp8Yo",
        "outputId": "f7dfb56d-954e-40e7-b155-00d9d93813b7"
      },
      "execution_count": 22,
      "outputs": [
        {
          "output_type": "stream",
          "name": "stdout",
          "text": [
            "1.000005\n"
          ]
        }
      ]
    }
  ]
}