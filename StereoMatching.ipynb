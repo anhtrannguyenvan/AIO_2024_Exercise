{
  "nbformat": 4,
  "nbformat_minor": 0,
  "metadata": {
    "colab": {
      "provenance": [],
      "authorship_tag": "ABX9TyPk1mEZ52tkkV1qsYOquhGx",
      "include_colab_link": true
    },
    "kernelspec": {
      "name": "python3",
      "display_name": "Python 3"
    },
    "language_info": {
      "name": "python"
    }
  },
  "cells": [
    {
      "cell_type": "markdown",
      "metadata": {
        "id": "view-in-github",
        "colab_type": "text"
      },
      "source": [
        "<a href=\"https://colab.research.google.com/github/anhtrannguyenvan/AIO_2024_Exercise/blob/feature%2Fmodule2%2Ffinal_projects/StereoMatching.ipynb\" target=\"_parent\"><img src=\"https://colab.research.google.com/assets/colab-badge.svg\" alt=\"Open In Colab\"/></a>"
      ]
    },
    {
      "cell_type": "code",
      "execution_count": 1,
      "metadata": {
        "colab": {
          "base_uri": "https://localhost:8080/"
        },
        "id": "Ew3KF03x7DR4",
        "outputId": "981e49a4-6bb3-41dd-a092-93a4ecccd896"
      },
      "outputs": [
        {
          "output_type": "stream",
          "name": "stdout",
          "text": [
            "/usr/local/lib/python3.10/dist-packages/gdown/__main__.py:132: FutureWarning: Option `--id` was deprecated in version 4.3.1 and will be removed in 5.0. You don't need to pass it anymore to use a file ID.\n",
            "  warnings.warn(\n",
            "Downloading...\n",
            "From: https://drive.google.com/uc?id=14gf8bcym_lTcvjZQmg8kwq3aXkENBxMQ\n",
            "To: /content/tsukuba.zip\n",
            "100% 354k/354k [00:00<00:00, 66.8MB/s]\n"
          ]
        }
      ],
      "source": [
        "!gdown --id 14gf8bcym_lTcvjZQmg8kwq3aXkENBxMQ"
      ]
    },
    {
      "cell_type": "code",
      "source": [
        "!unzip tsukuba"
      ],
      "metadata": {
        "colab": {
          "base_uri": "https://localhost:8080/"
        },
        "id": "8DQp00wiF5gz",
        "outputId": "0df94ba9-4539-49b0-942d-90768d92c82f"
      },
      "execution_count": 2,
      "outputs": [
        {
          "output_type": "stream",
          "name": "stdout",
          "text": [
            "Archive:  tsukuba.zip\n",
            "warning:  stripped absolute path spec from /\n",
            "mapname:  conversion of  failed\n",
            " extracting: left.png                \n",
            " extracting: right.png               \n",
            " extracting: groundtruth.png         \n"
          ]
        }
      ]
    },
    {
      "cell_type": "code",
      "source": [
        "!gdown --id 1wxmiUdqMciuTOs0ouKEISl8-iTVXdOWn"
      ],
      "metadata": {
        "colab": {
          "base_uri": "https://localhost:8080/"
        },
        "id": "PfmMOQj7GHrH",
        "outputId": "96de81a5-a9f0-47a3-aa57-9d30dd6aa0f2"
      },
      "execution_count": 3,
      "outputs": [
        {
          "output_type": "stream",
          "name": "stdout",
          "text": [
            "/usr/local/lib/python3.10/dist-packages/gdown/__main__.py:132: FutureWarning: Option `--id` was deprecated in version 4.3.1 and will be removed in 5.0. You don't need to pass it anymore to use a file ID.\n",
            "  warnings.warn(\n",
            "Downloading...\n",
            "From: https://drive.google.com/uc?id=1wxmiUdqMciuTOs0ouKEISl8-iTVXdOWn\n",
            "To: /content/Aloe_images.zip\n",
            "100% 1.32M/1.32M [00:00<00:00, 107MB/s]\n"
          ]
        }
      ]
    },
    {
      "cell_type": "code",
      "source": [
        "!unzip Aloe_images"
      ],
      "metadata": {
        "colab": {
          "base_uri": "https://localhost:8080/"
        },
        "id": "bKRF5_VfGVE9",
        "outputId": "1c8252b6-0e84-4502-bfbd-c62ebfd1909c"
      },
      "execution_count": 4,
      "outputs": [
        {
          "output_type": "stream",
          "name": "stdout",
          "text": [
            "Archive:  Aloe_images.zip\n",
            "  inflating: Aloe/Aloe_left_1.png    \n",
            "  inflating: Aloe/Aloe_right_3.png   \n",
            "  inflating: Aloe/Aloe_right_1.png   \n",
            "  inflating: Aloe/Aloe_right_2.png   \n",
            "  inflating: Aloe/Disparity_map_corr.png  \n"
          ]
        }
      ]
    },
    {
      "cell_type": "code",
      "source": [
        "import cv2\n",
        "import numpy as np"
      ],
      "metadata": {
        "id": "uQb3T9HSKYHd"
      },
      "execution_count": 7,
      "outputs": []
    },
    {
      "cell_type": "code",
      "source": [
        "\n",
        "\n",
        "def distance(x,y):\n",
        "  return abs(x - y)\n",
        "\n",
        "def pixel_wise_matching(left_img, right_img, disparity_range, save_result = True):\n",
        "  #read left, right images then convert to grayscale\n",
        "  left = cv2.imread(left_img, 0)\n",
        "  right = cv2.imread(right_img, 0)\n",
        "\n",
        "  left = left.astype(np.float32)\n",
        "  right = right.astype(np.float32)\n",
        "\n",
        "  #get image size\n",
        "  height, width = left.shape[:2]\n",
        "  #create blank disparity map\n",
        "  depth = np.zeros((height, width), np.uint8)\n",
        "  scale = 16\n",
        "  max_value = 255\n",
        "  for y in range(height):\n",
        "    for x in range(width):\n",
        "      disparity = 0\n",
        "      cost_min = max_value\n",
        "      for j in range(disparity_range):\n",
        "        cost = max_value if (x-j)<0 else distance (int(left[y,x]), int(right[y,x-j]))\n",
        "\n",
        "        if cost < cost_min:\n",
        "          cost_min = cost\n",
        "          disparity = j\n",
        "      # Let depth at (y, x) = j ( disparity )\n",
        "      # Multiply by a scale factor for visualization purpose\n",
        "      depth[y,x] = disparity * scale\n",
        "  if save_result == True:\n",
        "    print('Saving result...')\n",
        "    cv2.imwrite(f'pixel_wise_11.png', depth)\n",
        "    cv2.imwrite(f'pixel_wise_11_color.png', cv2.applyColorMap(depth, cv2.COLORMAP_JET))\n",
        "  print('Done')\n",
        "  return depth"
      ],
      "metadata": {
        "id": "aliqFT--GZvE"
      },
      "execution_count": 13,
      "outputs": []
    },
    {
      "cell_type": "code",
      "source": [
        "left_img_path = '/content/left.png'\n",
        "right_img_path = '/content/right.png'\n",
        "disparity_range = 16\n"
      ],
      "metadata": {
        "id": "LTa2L0g2KyXV"
      },
      "execution_count": 25,
      "outputs": []
    },
    {
      "cell_type": "code",
      "source": [
        "pixel_wise_result_l1 = pixel_wise_matching_l1(\n",
        "    left_img_path,\n",
        "    right_img_path,\n",
        "    disparity_range,\n",
        "    save_result = True\n",
        ")\n",
        "pixel_wise_result_l2 = pixel_wise_matching_l2(\n",
        "    left_img_path,\n",
        "    right_img_path,\n",
        "    disparity_range,\n",
        "    save_result = True\n",
        ")"
      ],
      "metadata": {
        "id": "oblQnqc9Pr73"
      },
      "execution_count": null,
      "outputs": []
    },
    {
      "cell_type": "code",
      "source": [
        "def distance(x,y):\n",
        "  return abs(x - y)\n",
        "\n",
        "def window_based_matching(left_img, right_img, disparity_range, kernel_size = 5, save_result = True):\n",
        "  left = cv2.imread(left_img, 0)\n",
        "  right = cv2.imread(right_img, 0)\n",
        "\n",
        "  left = left.astype(np.float32)\n",
        "  right = right.astype(np.float32)\n",
        "\n",
        "  height, width = left.shape[:2]\n",
        "  #create blank disparity\n",
        "  depth = np.zeros((height, width), np.uint8)\n",
        "\n",
        "  kernel_half = int((kernel_size - 1) / 2)\n",
        "  scale = 3\n",
        "  max_value = 255 * 9\n",
        "  for y in range(kernel_half, height - kernel_half + 1):\n",
        "    for x in range(kernel_half , width - kernel_half + 1):\n",
        "      disparity = 0\n",
        "      cost_min = 65534\n",
        "\n",
        "      for j in range(disparity_range):\n",
        "        total = 0\n",
        "        value = 0\n",
        "        for v in range(-kernel_half, kernel_half ):\n",
        "          for u in range(-kernel_half, kernel_half):\n",
        "            value = max_value\n",
        "            if (x+u-j) >= 0:\n",
        "              value = distance (int(left[y+v,x+u]), int(right[y+v,x+u-j]))\n",
        "            total += value\n",
        "\n",
        "        if total < cost_min:\n",
        "          cost_min = total\n",
        "          disparity = j\n",
        "\n",
        "      depth[y,x] = disparity * scale\n",
        "    if save_result == True:\n",
        "\n",
        "      print('Saving result...')\n",
        "      cv2.imwrite(f'window_based_11.png', depth)\n",
        "      cv2.imwrite(f'window_based_11_color.png', cv2.applyColorMap(depth, cv2.COLORMAP_JET))\n",
        "    print('Done')\n",
        "    return depth"
      ],
      "metadata": {
        "id": "F4O_EbcCPsnF"
      },
      "execution_count": 27,
      "outputs": []
    },
    {
      "cell_type": "code",
      "source": [
        "left_img_path = '/content/Aloe/Aloe_left_1.png'\n",
        "right_img_path = '/content/Aloe/Aloe_right_1.png'\n",
        "disparity_range = 64\n",
        "kernel_size = 3\n",
        "\n",
        "window_based_result = window_based_matching_l1(\n",
        "    left_img_path,\n",
        "    right_img_path,\n",
        "    disparity_range,\n",
        "    kernel_size=kernel_size,\n",
        "    save_result = True\n",
        ")\n",
        "\n",
        "window_based_matching = window_based_matching_l2(\n",
        "    left_img_path,\n",
        "    right_img_path,\n",
        "    disparity_range,\n",
        "    kernel_size=kernel_size,\n",
        "    save_result = True\n",
        ")"
      ],
      "metadata": {
        "id": "Xc7xdZdPUQpj"
      },
      "execution_count": null,
      "outputs": []
    },
    {
      "cell_type": "code",
      "source": [
        "def cosine_distance(x,y):\n",
        "\n",
        "  numerator = np.dot(x, y)\n",
        "  denominator = np.linalg.norm(x) * np.linalg.norm(y)\n",
        "  return numerator /demoninator\n",
        "\n",
        "def window_based_matching(left_img, right_img, disparity_range, kernel_size = 5, save_result = True):\n",
        "  left = cv2.imread(left_img, 0)\n",
        "  right = cv2.imread(right_img, 0)\n",
        "\n",
        "  left = left.astype(np.float32)\n",
        "  right = right.astype(np.float32)\n",
        "\n",
        "  height, width = left.shape[:2]\n",
        "  #create blank disparity\n",
        "  depth = np.zeros((height, width), np.uint8)\n",
        "  kernel_half = int((kernel_size - 1) / 2)\n",
        "  scale = 3\n",
        "  for y in range(kernel_half, height - kernel_half):\n",
        "    for x in range(kernel_half , width - kernel_half):\n",
        "      disparity = 0\n",
        "      cost_optimal = -1\n",
        "      for j in range(disparity_range):\n",
        "        d = x - j\n",
        "        cost = -1\n",
        "        if (d - kernel_half) > 0:\n",
        "          wp = left[(y-kernel_half):(y+kernel_half+1), (x-kernel_half):(x+kernel_half+1)]\n",
        "          wqd = right[(y-kernel_half):(y+kernel_half+1), (d-kernel_half):(d+kernel_half+1)]\\\n",
        "          wp_flattened = wp.flatten()\n",
        "          wqd_flattened = wqd.flatten()\n",
        "          cost = cosine_distance(wp_flattened, wqd_flattend)\n",
        "        if cost > cost_optimal:\n",
        "          cost_optimal = cost\n",
        "          disparity = j\n",
        "      depth[y,x] = disparity * scale\n",
        "\n",
        "    if save_result:\n",
        "      print('Saving result...')\n",
        "      cv2.imwrite(’window_based_cosine_similarity.png’, depth)\n",
        "      cv2.imwrite(’window_based_cosine_similarity_color.png’, cv2.applyColorMap(depth, cv2.COLORMAP_JET))\n",
        "    print('Done')\n",
        "  return depth"
      ],
      "metadata": {
        "id": "sk2fI10tUVfL"
      },
      "execution_count": null,
      "outputs": []
    },
    {
      "cell_type": "code",
      "source": [
        "1d 2c 3a 4b 5a 6d"
      ],
      "metadata": {
        "id": "ig8iYP9hX6Em"
      },
      "execution_count": null,
      "outputs": []
    },
    {
      "cell_type": "markdown",
      "source": [],
      "metadata": {
        "id": "SS-fm62TVm2-"
      }
    }
  ]
}