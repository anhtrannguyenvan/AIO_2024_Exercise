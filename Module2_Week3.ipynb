{
  "nbformat": 4,
  "nbformat_minor": 0,
  "metadata": {
    "colab": {
      "provenance": [],
      "toc_visible": true,
      "authorship_tag": "ABX9TyO+SEiagFtDx2xHfKFiHbQP",
      "include_colab_link": true
    },
    "kernelspec": {
      "name": "python3",
      "display_name": "Python 3"
    },
    "language_info": {
      "name": "python"
    }
  },
  "cells": [
    {
      "cell_type": "markdown",
      "metadata": {
        "id": "view-in-github",
        "colab_type": "text"
      },
      "source": [
        "<a href=\"https://colab.research.google.com/github/anhtrannguyenvan/AIO_2024_Exercise/blob/feature%2Fmoudule2%2Fweek3/Module2_Week3.ipynb\" target=\"_parent\"><img src=\"https://colab.research.google.com/assets/colab-badge.svg\" alt=\"Open In Colab\"/></a>"
      ]
    },
    {
      "cell_type": "code",
      "execution_count": 3,
      "metadata": {
        "colab": {
          "base_uri": "https://localhost:8080/"
        },
        "id": "zQCfGczWskO2",
        "outputId": "d4440e4f-46d8-4035-a11b-d616033c2c4b"
      },
      "outputs": [
        {
          "output_type": "stream",
          "name": "stdout",
          "text": [
            "[['Sunny' 'Hot' 'High' 'Weak' 'no']\n",
            " ['Sunny' 'Hot' 'High' 'Strong' 'no']\n",
            " ['Overcast' 'Hot' 'High' 'Weak' 'yes']\n",
            " ['Rain' 'Mild' 'High' 'Weak' 'yes']\n",
            " ['Rain' 'Cool' 'Normal' 'Weak' 'yes']\n",
            " ['Rain' 'Cool' 'Normal' 'Strong' 'no']\n",
            " ['Overcast' 'Cool' 'Normal' 'Strong' 'yes']\n",
            " ['Overcast' 'Mild' 'High' 'Weak' 'no']\n",
            " ['Sunny' 'Cool' 'Normal' 'Weak' 'yes']\n",
            " ['Rain' 'Mild' 'Normal' 'Weak' 'yes']]\n"
          ]
        }
      ],
      "source": [
        "#4.1\n",
        "import numpy as np\n",
        "def create_train_data():\n",
        "    data = [\n",
        "        ['Sunny', 'Hot', 'High', 'Weak', 'no'],\n",
        "        ['Sunny', 'Hot', 'High', 'Strong', 'no'],\n",
        "        ['Overcast', 'Hot', 'High', 'Weak', 'yes'],\n",
        "        ['Rain', 'Mild', 'High', 'Weak', 'yes'],\n",
        "        ['Rain', 'Cool', 'Normal', 'Weak', 'yes'],\n",
        "        ['Rain', 'Cool', 'Normal', 'Strong', 'no'],\n",
        "        ['Overcast', 'Cool', 'Normal', 'Strong', 'yes'],\n",
        "        ['Overcast', 'Mild', 'High', 'Weak', 'no'],\n",
        "        ['Sunny', 'Cool', 'Normal', 'Weak', 'yes'],\n",
        "        ['Rain', 'Mild', 'Normal', 'Weak', 'yes']\n",
        "    ]\n",
        "\n",
        "    return np.array(data)\n",
        "\n",
        "train_data = create_train_data()\n",
        "print(train_data)"
      ]
    },
    {
      "cell_type": "code",
      "source": [
        "#4.2\n",
        "def compute_prior_probability(train_data):\n",
        "  y_unique = ['no','yes']\n",
        "  prior_probability = np.zeros(len(y_unique))\n",
        "  for i in range(len(y_unique)):\n",
        "    prior_probability[i] = np.sum(train_data[:, 4] == y_unique[i]) / len(train_data)\n",
        "  return prior_probability\n",
        "\n",
        "prior_probability = compute_prior_probability(train_data)\n",
        "print(\"P(play tennis = No)\", prior_probability[0])\n",
        "print(\"P(play tennis = Yes)\", prior_probability[1])"
      ],
      "metadata": {
        "colab": {
          "base_uri": "https://localhost:8080/"
        },
        "id": "_g7nfT_PFbIK",
        "outputId": "bb901f82-aec0-4cce-f2c6-eb05ebf58377"
      },
      "execution_count": 37,
      "outputs": [
        {
          "output_type": "stream",
          "name": "stdout",
          "text": [
            "P(play tennis = No) 0.4\n",
            "P(play tennis = Yes) 0.6\n"
          ]
        }
      ]
    },
    {
      "cell_type": "code",
      "source": [
        "#4.3\n",
        "def compute_conditional_probability(train_data):\n",
        "  y_unique = ['no','yes']\n",
        "  conditional_probability = [] # Initialize conditional_probability as an empty list\n",
        "  list_x_name = []\n",
        "  for i in range(len(train_data[0]) - 1):\n",
        "    x_unique = np.unique(train_data[:, i])\n",
        "    list_x_name.append(np.unique(train_data[:, i]))\n",
        "    x_conditional_probability = [] # Initialize x_conditional_probability within the loop\n",
        "    x_conditional_probability.append(np.zeros((len(x_unique), len(y_unique))))\n",
        "\n",
        "    conditional_probability.append(x_conditional_probability) # Append to the outer list\n",
        "  return conditional_probability, list_x_name"
      ],
      "metadata": {
        "id": "ACL2j4dIGw8e"
      },
      "execution_count": 5,
      "outputs": []
    },
    {
      "cell_type": "code",
      "source": [
        "#Cau 15\n",
        "train_data = create_train_data()\n",
        "_, list_x_name = compute_conditional_probability(train_data)\n",
        "print(\"x1 = \", list_x_name[0])\n",
        "print(\"x2 = \", list_x_name[1])\n",
        "print(\"x3 = \", list_x_name[2])\n",
        "print(\"x4 = \", list_x_name[3])"
      ],
      "metadata": {
        "colab": {
          "base_uri": "https://localhost:8080/"
        },
        "id": "aS4Njnu5HuMQ",
        "outputId": "b39cbea8-af29-4cb5-e1be-3c3465faf5a5"
      },
      "execution_count": 6,
      "outputs": [
        {
          "output_type": "stream",
          "name": "stdout",
          "text": [
            "x1 =  ['Overcast' 'Rain' 'Sunny']\n",
            "x2 =  ['Cool' 'Hot' 'Mild']\n",
            "x3 =  ['High' 'Normal']\n",
            "x4 =  ['Strong' 'Weak']\n"
          ]
        }
      ]
    },
    {
      "cell_type": "code",
      "source": [
        "#4.4\n",
        "def get_index_from_value(feature_name, list_features):\n",
        "  return np.where(list_features == feature_name)[0][0]"
      ],
      "metadata": {
        "id": "8HgZxNVoH5zk"
      },
      "execution_count": 47,
      "outputs": []
    },
    {
      "cell_type": "code",
      "source": [
        "#Cau16\n",
        "train_data = create_train_data()\n",
        "_ , list_x_name = compute_conditional_probability(train_data)\n",
        "outlook = list_x_name[0]\n",
        "\n",
        "i1 = get_index_from_value(\"Overcast\",outlook)\n",
        "i2 = get_index_from_value(\"Rain\",outlook)\n",
        "i3 = get_index_from_value(\"Sunny\",outlook)\n",
        "print(i1,i2,i3)\n"
      ],
      "metadata": {
        "colab": {
          "base_uri": "https://localhost:8080/"
        },
        "id": "rKN8NZBhH1uL",
        "outputId": "a8b52117-6d08-454c-f99e-3feffa43be5b"
      },
      "execution_count": 8,
      "outputs": [
        {
          "output_type": "stream",
          "name": "stdout",
          "text": [
            "0 1 2\n"
          ]
        }
      ]
    },
    {
      "cell_type": "code",
      "source": [
        "#cau17\n",
        "def compute_conditional_probability(train_data):\n",
        "    y_unique = ['no', 'yes']\n",
        "    conditional_probability = []\n",
        "    list_x_name = []\n",
        "    for i in range(len(train_data[0]) - 1):\n",
        "        x_unique = np.unique(train_data[:, i])\n",
        "        list_x_name.append(x_unique)\n",
        "        x_conditional_probability = np.zeros((len(x_unique), len(y_unique)))\n",
        "        for j in range(len(x_unique)):\n",
        "            for k in range(len(y_unique)):\n",
        "                count_x_y = 0\n",
        "                count_y = 0\n",
        "                for row in train_data:\n",
        "                    if row[i] == x_unique[j] and row[-1] == y_unique[k]:\n",
        "                        count_x_y += 1\n",
        "                    if row[-1] == y_unique[k]:\n",
        "                        count_y += 1\n",
        "                if count_y != 0:\n",
        "                    x_conditional_probability[j, k] = count_x_y / count_y\n",
        "        conditional_probability.append(x_conditional_probability)\n",
        "    return conditional_probability, list_x_name\n",
        "\n",
        "# Assuming create_train_data() is defined elsewhere\n",
        "train_data = create_train_data()\n",
        "conditional_probability, list_x_name = compute_conditional_probability(train_data)\n",
        "\n",
        "# Compute P(\"Outlook\"=\"Sunny\" | Play Tennis =\"Yes\")\n",
        "x1 = get_index_from_value(\"Sunny\", list_x_name[0])\n",
        "print(\"P('Outlook'='Sunny' | Play Tennis ='Yes') =\", np.round(conditional_probability[0][x1, 1], 2))"
      ],
      "metadata": {
        "colab": {
          "base_uri": "https://localhost:8080/"
        },
        "id": "2SxUCQRDIvI4",
        "outputId": "97b15c2a-58f6-4af5-b0c1-96f5788b2391"
      },
      "execution_count": 9,
      "outputs": [
        {
          "output_type": "stream",
          "name": "stdout",
          "text": [
            "P('Outlook'='Sunny' | Play Tennis ='Yes') = 0.17\n"
          ]
        }
      ]
    },
    {
      "cell_type": "code",
      "source": [
        "def compute_conditional_probability(train_data):\n",
        "  y_unique = ['no', 'yes']\n",
        "  conditional_probability = []\n",
        "  list_x_name = []\n",
        "  for i in range(0,train_data.shape[1]-1):\n",
        "    x_unique = np.unique(train_data[:,i])\n",
        "    print(\"x_unique\", x_unique)\n",
        "\n",
        "    list_x_name.append(x_unique)\n",
        "\n",
        "    x_conditional_probability = np.zeros((len(y_unique),len(x_unique)))\n",
        "    for j in range(0,len(y_unique)):\n",
        "      for k in range(0,len(x_unique)):\n",
        "        x_conditional_probability[j,k]= len(np.where((train_data[:,i] == x_unique[k]) & (train_data[:,4] == y_unique[j]))[0])/len(np.where(train_data[:,4] == y_unique[j])[0])\n",
        "\n",
        "    conditional_probability.append(x_conditional_probability)\n",
        "  return conditional_probability, list_x_name"
      ],
      "metadata": {
        "id": "hCEHHmjEPNOQ"
      },
      "execution_count": 40,
      "outputs": []
    },
    {
      "cell_type": "code",
      "source": [
        "#Cau18\n",
        "\n",
        "# Compute P(\"Outlook\"=\"Sunny\" | Play Tennis =\"No\")\n",
        "x1 = get_index_from_value(\"Sunny\", list_x_name[0])\n",
        "print(\"P('Outlook'='Sunny' | Play Tennis ='No') =\", np.round(conditional_probability[0][x1, ], 2))\n",
        ""
      ],
      "metadata": {
        "colab": {
          "base_uri": "https://localhost:8080/"
        },
        "id": "wCzPruIDEKQZ",
        "outputId": "d02d5e9f-b0bf-4f4e-e4fd-458cfd16d9e7"
      },
      "execution_count": 11,
      "outputs": [
        {
          "output_type": "stream",
          "name": "stdout",
          "text": [
            "P('Outlook'='Sunny' | Play Tennis ='No') = 0.5\n"
          ]
        }
      ]
    },
    {
      "cell_type": "code",
      "source": [
        "###Train Navie Bayes Model\n",
        "def train_naive_bayes(train_data):\n",
        "  #step 1: Calculate Prior Probability\n",
        "  # Calculate prior probabilities directly\n",
        "  y_unique = ['no', 'yes']\n",
        "  prior_probability = [len(np.where(train_data[:, -1] == label)[0]) / len(train_data) for label in y_unique]\n",
        "  #step 2: Calculate conditional probability\n",
        "  conditional_probability, list_x_name = compute_conditional_probability(train_data)\n",
        "  return prior_probability, conditional_probability, list_x_name\n",
        "\n",
        "data = create_train_data()\n",
        "prior_probability,conditional_probability, list_x_name = train_naive_bayes(data)\n"
      ],
      "metadata": {
        "colab": {
          "base_uri": "https://localhost:8080/"
        },
        "id": "kT7CWnoBJDtr",
        "outputId": "ede774bb-4207-4743-d038-40fc5a18ecad"
      },
      "execution_count": 57,
      "outputs": [
        {
          "output_type": "stream",
          "name": "stdout",
          "text": [
            "x_unique ['Overcast' 'Rain' 'Sunny']\n",
            "x_unique ['Cool' 'Hot' 'Mild']\n",
            "x_unique ['High' 'Normal']\n",
            "x_unique ['Strong' 'Weak']\n"
          ]
        }
      ]
    },
    {
      "cell_type": "code",
      "source": [
        "#4.6 #Prediction\n",
        "def prediction_play_tennis(X, list_x_name, prior_probability, conditional_probability):\n",
        "\n",
        "    x1=get_index_from_value(X[0],list_x_name[0])\n",
        "    x2=get_index_from_value(X[1],list_x_name[1])\n",
        "    x3=get_index_from_value(X[2],list_x_name[2])\n",
        "    x4=get_index_from_value(X[3],list_x_name[3])\n",
        "\n",
        "    p0 = prior_probability[0] # Probability of class 0\n",
        "    p1 = prior_probability[1] # Probability of class 1\n",
        "\n",
        "    p0 *= conditional_probability[0][0,x1] \\\n",
        "        * conditional_probability[1][0,x2] \\\n",
        "        * conditional_probability[2][0,x3] \\\n",
        "        * conditional_probability[3][0,x4]\n",
        "\n",
        "    p1 *= conditional_probability[0][1,x1]\\\n",
        "        * conditional_probability[1][1,x2]\\\n",
        "        * conditional_probability[2][1,x3]\\\n",
        "        * conditional_probability[3][1,x4]\n",
        "\n",
        "    # print(p0, p1)\n",
        "\n",
        "    if p0>p1:\n",
        "        y_pred=0\n",
        "    else:\n",
        "        y_pred=1\n",
        "\n",
        "    return y_pred\n",
        "\n",
        "# prediction_play_tennis()"
      ],
      "metadata": {
        "id": "6zutI5jEJy3D"
      },
      "execution_count": 58,
      "outputs": []
    },
    {
      "cell_type": "code",
      "source": [
        "#cau19\n",
        "X = ['Sunny','Cool', 'High', 'Strong']\n",
        "data = create_train_data()\n",
        "prior_probability,conditional_probability, list_x_name = train_naive_bayes(data)\n",
        "pred =  prediction_play_tennis(X, list_x_name, prior_probability, conditional_probability)\n",
        "\n",
        "if(pred):\n",
        "  print(\"Ad should go!\")\n",
        "else:\n",
        "  print(\"Ad should not go!\")"
      ],
      "metadata": {
        "colab": {
          "base_uri": "https://localhost:8080/"
        },
        "id": "u4bGKOm-Lx71",
        "outputId": "ee570d74-5ed6-40a9-c31d-2beccefee9e4"
      },
      "execution_count": 59,
      "outputs": [
        {
          "output_type": "stream",
          "name": "stdout",
          "text": [
            "x_unique ['Overcast' 'Rain' 'Sunny']\n",
            "x_unique ['Cool' 'Hot' 'Mild']\n",
            "x_unique ['High' 'Normal']\n",
            "x_unique ['Strong' 'Weak']\n",
            "Ad should not go!\n"
          ]
        }
      ]
    }
  ]
}